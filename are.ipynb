{
  "nbformat": 4,
  "nbformat_minor": 0,
  "metadata": {
    "colab": {
      "name": "are.ipynb",
      "provenance": [],
      "collapsed_sections": []
    },
    "kernelspec": {
      "name": "python3",
      "display_name": "Python 3"
    },
    "language_info": {
      "name": "python"
    }
  },
  "cells": [
    {
      "cell_type": "code",
      "execution_count": null,
      "metadata": {
        "id": "jCmtW9kn7ijp"
      },
      "outputs": [],
      "source": [
        "import pandas as pd\n",
        "import numpy as np\n",
        "import random\n",
        "import matplotlib.pyplot as plt"
      ]
    },
    {
      "cell_type": "code",
      "source": [
        "data1 = np.arange(1,101)\n",
        "data1.reshape(len(data1),1)"
      ],
      "metadata": {
        "colab": {
          "base_uri": "https://localhost:8080/"
        },
        "id": "vt2LOvB98Gzg",
        "outputId": "1a985584-7235-40e4-a1f2-81680bea1485"
      },
      "execution_count": null,
      "outputs": [
        {
          "output_type": "execute_result",
          "data": {
            "text/plain": [
              "array([[  1],\n",
              "       [  2],\n",
              "       [  3],\n",
              "       [  4],\n",
              "       [  5],\n",
              "       [  6],\n",
              "       [  7],\n",
              "       [  8],\n",
              "       [  9],\n",
              "       [ 10],\n",
              "       [ 11],\n",
              "       [ 12],\n",
              "       [ 13],\n",
              "       [ 14],\n",
              "       [ 15],\n",
              "       [ 16],\n",
              "       [ 17],\n",
              "       [ 18],\n",
              "       [ 19],\n",
              "       [ 20],\n",
              "       [ 21],\n",
              "       [ 22],\n",
              "       [ 23],\n",
              "       [ 24],\n",
              "       [ 25],\n",
              "       [ 26],\n",
              "       [ 27],\n",
              "       [ 28],\n",
              "       [ 29],\n",
              "       [ 30],\n",
              "       [ 31],\n",
              "       [ 32],\n",
              "       [ 33],\n",
              "       [ 34],\n",
              "       [ 35],\n",
              "       [ 36],\n",
              "       [ 37],\n",
              "       [ 38],\n",
              "       [ 39],\n",
              "       [ 40],\n",
              "       [ 41],\n",
              "       [ 42],\n",
              "       [ 43],\n",
              "       [ 44],\n",
              "       [ 45],\n",
              "       [ 46],\n",
              "       [ 47],\n",
              "       [ 48],\n",
              "       [ 49],\n",
              "       [ 50],\n",
              "       [ 51],\n",
              "       [ 52],\n",
              "       [ 53],\n",
              "       [ 54],\n",
              "       [ 55],\n",
              "       [ 56],\n",
              "       [ 57],\n",
              "       [ 58],\n",
              "       [ 59],\n",
              "       [ 60],\n",
              "       [ 61],\n",
              "       [ 62],\n",
              "       [ 63],\n",
              "       [ 64],\n",
              "       [ 65],\n",
              "       [ 66],\n",
              "       [ 67],\n",
              "       [ 68],\n",
              "       [ 69],\n",
              "       [ 70],\n",
              "       [ 71],\n",
              "       [ 72],\n",
              "       [ 73],\n",
              "       [ 74],\n",
              "       [ 75],\n",
              "       [ 76],\n",
              "       [ 77],\n",
              "       [ 78],\n",
              "       [ 79],\n",
              "       [ 80],\n",
              "       [ 81],\n",
              "       [ 82],\n",
              "       [ 83],\n",
              "       [ 84],\n",
              "       [ 85],\n",
              "       [ 86],\n",
              "       [ 87],\n",
              "       [ 88],\n",
              "       [ 89],\n",
              "       [ 90],\n",
              "       [ 91],\n",
              "       [ 92],\n",
              "       [ 93],\n",
              "       [ 94],\n",
              "       [ 95],\n",
              "       [ 96],\n",
              "       [ 97],\n",
              "       [ 98],\n",
              "       [ 99],\n",
              "       [100]])"
            ]
          },
          "metadata": {},
          "execution_count": 3
        }
      ]
    },
    {
      "cell_type": "code",
      "source": [
        "columns=[\"individu\"]"
      ],
      "metadata": {
        "id": "JOy6c2lv8P9q"
      },
      "execution_count": null,
      "outputs": []
    },
    {
      "cell_type": "code",
      "source": [
        "tab = pd.DataFrame(columns=columns,data=data1)"
      ],
      "metadata": {
        "id": "nO0IvZDWBA-w"
      },
      "execution_count": null,
      "outputs": []
    },
    {
      "cell_type": "code",
      "source": [
        "def coordonnées(tab,char):\n",
        "  i=0\n",
        "  tabres=[]\n",
        "\n",
        "  for i in range(len(tab[\"individu\"])):\n",
        "    tabres.append(random.random())\n",
        "  tab[char]=np.array(tabres)\n"
      ],
      "metadata": {
        "id": "bQ4ef8HABFeX"
      },
      "execution_count": null,
      "outputs": []
    },
    {
      "cell_type": "code",
      "source": [
        "coordonnées(tab,'x')\n",
        "coordonnées(tab,'y')"
      ],
      "metadata": {
        "id": "LZmQ0Zh8GHCN"
      },
      "execution_count": null,
      "outputs": []
    },
    {
      "cell_type": "code",
      "source": [
        "tab[\"couleur\"]=np.ones(100)\n",
        "def init2couleurs(tab):\n",
        "  tab2=[\"red\",\"blue\"]\n",
        "  i=0\n",
        "  n=(random.randint(0,1))\n",
        "  for i in range(len(tab)):\n",
        "     tab[\"couleur\"][i]=tab2[random.randint(0,1)]\n",
        "      \n",
        "init2couleurs(tab)\n",
        "tab2=[\"red\",\"blue\"]\n",
        "\n",
        "#remplacer 0 et 1 par une liste de couleurs"
      ],
      "metadata": {
        "colab": {
          "base_uri": "https://localhost:8080/"
        },
        "id": "Q5j6BwBfI8OF",
        "outputId": "91236148-43dd-45a9-cfb2-ebbfb1486e4c"
      },
      "execution_count": null,
      "outputs": [
        {
          "output_type": "stream",
          "name": "stderr",
          "text": [
            "/usr/local/lib/python3.7/dist-packages/ipykernel_launcher.py:7: SettingWithCopyWarning: \n",
            "A value is trying to be set on a copy of a slice from a DataFrame\n",
            "\n",
            "See the caveats in the documentation: https://pandas.pydata.org/pandas-docs/stable/user_guide/indexing.html#returning-a-view-versus-a-copy\n",
            "  import sys\n",
            "/usr/local/lib/python3.7/dist-packages/pandas/core/indexing.py:1732: SettingWithCopyWarning: \n",
            "A value is trying to be set on a copy of a slice from a DataFrame\n",
            "\n",
            "See the caveats in the documentation: https://pandas.pydata.org/pandas-docs/stable/user_guide/indexing.html#returning-a-view-versus-a-copy\n",
            "  self._setitem_single_block(indexer, value, name)\n"
          ]
        }
      ]
    },
    {
      "cell_type": "code",
      "source": [
        "plt.scatter(tab['x'],tab['y'],c=tab[\"couleur\"])\n",
        "#tab[\"couleur\"]"
      ],
      "metadata": {
        "colab": {
          "base_uri": "https://localhost:8080/",
          "height": 282
        },
        "id": "QsorB_RXJDVm",
        "outputId": "cfb8f83a-6c05-46c3-91c8-513c14ab9980"
      },
      "execution_count": null,
      "outputs": [
        {
          "output_type": "execute_result",
          "data": {
            "text/plain": [
              "<matplotlib.collections.PathCollection at 0x7fc6ba1bdf50>"
            ]
          },
          "metadata": {},
          "execution_count": 41
        },
        {
          "output_type": "display_data",
          "data": {
            "image/png": "[encoded data removed]",
            "text/plain": [
              "<Figure size 432x288 with 1 Axes>"
            ]
          },
          "metadata": {
            "needs_background": "light"
          }
        }
      ]
    },
    {
      "cell_type": "code",
      "source": [
        "import numpy as np\n",
        "A = np.matrix([1,3,2],[2,11,-3],[0,-27,13])\n",
        "while numpy.linalg.matrix_rank(A)==3:\n",
        "  A[0][2]=A[2][0]-1\n",
        "  print(A)\n",
        "  print(numpy.linalg.matrix_rank(A))\n",
        "print(A[2][0])"
      ],
      "metadata": {
        "id": "V5G47IZnJV4y",
        "colab": {
          "base_uri": "https://localhost:8080/",
          "height": 356
        },
        "outputId": "343b23a0-f10b-4c4e-c736-97c21d8a7ee6"
      },
      "execution_count": null,
      "outputs": [
        {
          "output_type": "error",
          "ename": "TypeError",
          "evalue": "ignored",
          "traceback": [
            "\u001b[0;31m---------------------------------------------------------------------------\u001b[0m",
            "\u001b[0;31mTypeError\u001b[0m                                 Traceback (most recent call last)",
            "\u001b[0;32m<ipython-input-14-8e7295318a27>\u001b[0m in \u001b[0;36m<module>\u001b[0;34m()\u001b[0m\n\u001b[1;32m      1\u001b[0m \u001b[0;32mimport\u001b[0m \u001b[0mnumpy\u001b[0m \u001b[0;32mas\u001b[0m \u001b[0mnp\u001b[0m\u001b[0;34m\u001b[0m\u001b[0;34m\u001b[0m\u001b[0m\n\u001b[0;32m----> 2\u001b[0;31m \u001b[0mA\u001b[0m \u001b[0;34m=\u001b[0m \u001b[0mnp\u001b[0m\u001b[0;34m.\u001b[0m\u001b[0mmatrix\u001b[0m\u001b[0;34m(\u001b[0m\u001b[0;34m[\u001b[0m\u001b[0;36m1\u001b[0m\u001b[0;34m,\u001b[0m\u001b[0;36m3\u001b[0m\u001b[0;34m,\u001b[0m\u001b[0;36m2\u001b[0m\u001b[0;34m]\u001b[0m\u001b[0;34m,\u001b[0m\u001b[0;34m[\u001b[0m\u001b[0;36m2\u001b[0m\u001b[0;34m,\u001b[0m\u001b[0;36m11\u001b[0m\u001b[0;34m,\u001b[0m\u001b[0;34m-\u001b[0m\u001b[0;36m3\u001b[0m\u001b[0;34m]\u001b[0m\u001b[0;34m,\u001b[0m\u001b[0;34m[\u001b[0m\u001b[0;36m0\u001b[0m\u001b[0;34m,\u001b[0m\u001b[0;34m-\u001b[0m\u001b[0;36m27\u001b[0m\u001b[0;34m,\u001b[0m\u001b[0;36m13\u001b[0m\u001b[0;34m]\u001b[0m\u001b[0;34m)\u001b[0m\u001b[0;34m\u001b[0m\u001b[0;34m\u001b[0m\u001b[0m\n\u001b[0m\u001b[1;32m      3\u001b[0m \u001b[0;32mwhile\u001b[0m \u001b[0mnumpy\u001b[0m\u001b[0;34m.\u001b[0m\u001b[0mlinalg\u001b[0m\u001b[0;34m.\u001b[0m\u001b[0mmatrix_rank\u001b[0m\u001b[0;34m(\u001b[0m\u001b[0mA\u001b[0m\u001b[0;34m)\u001b[0m\u001b[0;34m==\u001b[0m\u001b[0;36m3\u001b[0m\u001b[0;34m:\u001b[0m\u001b[0;34m\u001b[0m\u001b[0;34m\u001b[0m\u001b[0m\n\u001b[1;32m      4\u001b[0m   \u001b[0mA\u001b[0m\u001b[0;34m[\u001b[0m\u001b[0;36m0\u001b[0m\u001b[0;34m]\u001b[0m\u001b[0;34m[\u001b[0m\u001b[0;36m2\u001b[0m\u001b[0;34m]\u001b[0m\u001b[0;34m=\u001b[0m\u001b[0mA\u001b[0m\u001b[0;34m[\u001b[0m\u001b[0;36m2\u001b[0m\u001b[0;34m]\u001b[0m\u001b[0;34m[\u001b[0m\u001b[0;36m0\u001b[0m\u001b[0;34m]\u001b[0m\u001b[0;34m-\u001b[0m\u001b[0;36m1\u001b[0m\u001b[0;34m\u001b[0m\u001b[0;34m\u001b[0m\u001b[0m\n\u001b[1;32m      5\u001b[0m   \u001b[0mprint\u001b[0m\u001b[0;34m(\u001b[0m\u001b[0mA\u001b[0m\u001b[0;34m)\u001b[0m\u001b[0;34m\u001b[0m\u001b[0;34m\u001b[0m\u001b[0m\n",
            "\u001b[0;32m/usr/local/lib/python3.7/dist-packages/numpy/matrixlib/defmatrix.py\u001b[0m in \u001b[0;36m__new__\u001b[0;34m(subtype, data, dtype, copy)\u001b[0m\n\u001b[1;32m    143\u001b[0m \u001b[0;34m\u001b[0m\u001b[0m\n\u001b[1;32m    144\u001b[0m         \u001b[0;31m# now convert data to an array\u001b[0m\u001b[0;34m\u001b[0m\u001b[0;34m\u001b[0m\u001b[0;34m\u001b[0m\u001b[0m\n\u001b[0;32m--> 145\u001b[0;31m         \u001b[0marr\u001b[0m \u001b[0;34m=\u001b[0m \u001b[0mN\u001b[0m\u001b[0;34m.\u001b[0m\u001b[0marray\u001b[0m\u001b[0;34m(\u001b[0m\u001b[0mdata\u001b[0m\u001b[0;34m,\u001b[0m \u001b[0mdtype\u001b[0m\u001b[0;34m=\u001b[0m\u001b[0mdtype\u001b[0m\u001b[0;34m,\u001b[0m \u001b[0mcopy\u001b[0m\u001b[0;34m=\u001b[0m\u001b[0mcopy\u001b[0m\u001b[0;34m)\u001b[0m\u001b[0;34m\u001b[0m\u001b[0;34m\u001b[0m\u001b[0m\n\u001b[0m\u001b[1;32m    146\u001b[0m         \u001b[0mndim\u001b[0m \u001b[0;34m=\u001b[0m \u001b[0marr\u001b[0m\u001b[0;34m.\u001b[0m\u001b[0mndim\u001b[0m\u001b[0;34m\u001b[0m\u001b[0;34m\u001b[0m\u001b[0m\n\u001b[1;32m    147\u001b[0m         \u001b[0mshape\u001b[0m \u001b[0;34m=\u001b[0m \u001b[0marr\u001b[0m\u001b[0;34m.\u001b[0m\u001b[0mshape\u001b[0m\u001b[0;34m\u001b[0m\u001b[0;34m\u001b[0m\u001b[0m\n",
            "\u001b[0;31mTypeError\u001b[0m: Field elements must be 2- or 3-tuples, got '2'"
          ]
        }
      ]
    },
    {
      "cell_type": "code",
      "source": [
        ""
      ],
      "metadata": {
        "id": "2z_lgvBG1SFi"
      },
      "execution_count": null,
      "outputs": []
    }
  ]
}